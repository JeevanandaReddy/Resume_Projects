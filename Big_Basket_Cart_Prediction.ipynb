{
  "nbformat": 4,
  "nbformat_minor": 0,
  "metadata": {
    "colab": {
      "provenance": [],
      "include_colab_link": true
    },
    "kernelspec": {
      "name": "python3",
      "display_name": "Python 3"
    }
  },
  "cells": [
    {
      "cell_type": "markdown",
      "metadata": {
        "id": "view-in-github",
        "colab_type": "text"
      },
      "source": [
        "<a href=\"https://colab.research.google.com/github/JeevanandaReddy/Resume_Projects/blob/main/Big_Basket_Cart_Prediction.ipynb\" target=\"_parent\"><img src=\"https://colab.research.google.com/assets/colab-badge.svg\" alt=\"Open In Colab\"/></a>"
      ]
    },
    {
      "cell_type": "markdown",
      "metadata": {
        "id": "Z-jZGC0q0aiY"
      },
      "source": [
        "# Big Basket Cart Prediction By Apriori\n"
      ]
    },
    {
      "cell_type": "code",
      "source": [
        "!pip install apyori"
      ],
      "metadata": {
        "id": "75_F8Gmbp34Y",
        "outputId": "61b63d98-1303-45be-e8e9-5f1c83d2b0ed",
        "colab": {
          "base_uri": "https://localhost:8080/"
        }
      },
      "execution_count": 1,
      "outputs": [
        {
          "output_type": "stream",
          "name": "stdout",
          "text": [
            "Looking in indexes: https://pypi.org/simple, https://us-python.pkg.dev/colab-wheels/public/simple/\n",
            "Collecting apyori\n",
            "  Downloading apyori-1.1.2.tar.gz (8.6 kB)\n",
            "Building wheels for collected packages: apyori\n",
            "  Building wheel for apyori (setup.py) ... \u001b[?25l\u001b[?25hdone\n",
            "  Created wheel for apyori: filename=apyori-1.1.2-py3-none-any.whl size=5975 sha256=1e4830bcc61f6e65e98993ab6db21f02693303d2ded22417b1d566ee4c5767e9\n",
            "  Stored in directory: /root/.cache/pip/wheels/cb/f6/e1/57973c631d27efd1a2f375bd6a83b2a616c4021f24aab84080\n",
            "Successfully built apyori\n",
            "Installing collected packages: apyori\n",
            "Successfully installed apyori-1.1.2\n"
          ]
        }
      ]
    },
    {
      "cell_type": "markdown",
      "metadata": {
        "id": "jE4Rc_OO0eJM"
      },
      "source": [
        "## Importing libraries"
      ]
    },
    {
      "cell_type": "code",
      "source": [
        "import numpy as np\n",
        "import pandas as pd\n",
        "import matplotlib.pyplot as plt"
      ],
      "metadata": {
        "id": "xBWJwfApqDhX"
      },
      "execution_count": 2,
      "outputs": []
    },
    {
      "cell_type": "markdown",
      "metadata": {
        "id": "A9-xGHd20gY1"
      },
      "source": [
        "## Importing dataset"
      ]
    },
    {
      "cell_type": "code",
      "source": [
        "data_set= pd.read_csv(\"Big Basket.com Cart Apriori.csv\", header= None)\n",
        "transcation= []\n",
        "\n",
        "for i in range(0,7219):\n",
        "  transcation.append([str(data_set.values[i, j]) for j in range(0, 20)])\n",
        "  "
      ],
      "metadata": {
        "id": "OKJYKgmRqNb4"
      },
      "execution_count": 3,
      "outputs": []
    },
    {
      "cell_type": "markdown",
      "source": [
        "##Apriori Training on Dataset"
      ],
      "metadata": {
        "id": "YgWm3XnStBDH"
      }
    },
    {
      "cell_type": "code",
      "source": [
        "# Support is an indication of how frequently the items appear in the data. \n",
        "# Confidence indicates the number of times the if-then statements are found true.\n",
        "# lift is that item Y is likely to be bought if item X is bought\n",
        "from apyori import apriori\n",
        "backet_intelligence= apriori(transactions= transcation, min_support= 0.003, min_confidence= 0.2, min_lift= 3, min_length= 2, max_length= 2)"
      ],
      "metadata": {
        "id": "_Ld20X9dtHUs"
      },
      "execution_count": 5,
      "outputs": []
    },
    {
      "cell_type": "markdown",
      "metadata": {
        "id": "-Dw4Khi70u9g"
      },
      "source": [
        "## Visualizing"
      ]
    },
    {
      "cell_type": "markdown",
      "metadata": {
        "id": "LMakVn8pt7Fk"
      },
      "source": [
        "### Raw Results"
      ]
    },
    {
      "cell_type": "code",
      "source": [
        "results= list(backet_intelligence)"
      ],
      "metadata": {
        "id": "bTUTNSpcv5oz"
      },
      "execution_count": 6,
      "outputs": []
    },
    {
      "cell_type": "code",
      "source": [
        "results"
      ],
      "metadata": {
        "id": "s8QoIaVYwWkc",
        "outputId": "c4a65321-1338-4fe7-9bbf-f444082c88dc",
        "colab": {
          "base_uri": "https://localhost:8080/"
        }
      },
      "execution_count": 7,
      "outputs": [
        {
          "output_type": "execute_result",
          "data": {
            "text/plain": [
              "[RelationRecord(items=frozenset({'almonds', 'burgers'}), support=0.005402410306136584, ordered_statistics=[OrderedStatistic(items_base=frozenset({'almonds'}), items_add=frozenset({'burgers'}), confidence=0.26530612244897955, lift=3.0594966421073218)]),\n",
              " RelationRecord(items=frozenset({'paneer', 'buns'}), support=0.016068707577226764, ordered_statistics=[OrderedStatistic(items_base=frozenset({'buns'}), items_add=frozenset({'paneer'}), confidence=0.32402234636871513, lift=3.2852771326344867)]),\n",
              " RelationRecord(items=frozenset({'ginger garlic paste', 'chicken'}), support=0.004571270259038648, ordered_statistics=[OrderedStatistic(items_base=frozenset({'ginger garlic paste'}), items_add=frozenset({'chicken'}), confidence=0.29203539823008845, lift=4.791371681415929)]),\n",
              " RelationRecord(items=frozenset({'fruit basket', 'vegetable basket'}), support=0.0055409336473195734, ordered_statistics=[OrderedStatistic(items_base=frozenset({'fruit basket'}), items_add=frozenset({'vegetable basket'}), confidence=0.29411764705882354, lift=3.081618714249125)]),\n",
              " RelationRecord(items=frozenset({'ginger garlic paste', 'olive oil'}), support=0.003324560188391744, ordered_statistics=[OrderedStatistic(items_base=frozenset({'ginger garlic paste'}), items_add=frozenset({'olive oil'}), confidence=0.21238938053097342, lift=3.2346813039094875)]),\n",
              " RelationRecord(items=frozenset({'paneer', 'kissan puree'}), support=0.005402410306136584, ordered_statistics=[OrderedStatistic(items_base=frozenset({'kissan puree'}), items_add=frozenset({'paneer'}), confidence=0.3786407766990291, lift=3.8390558525144542)]),\n",
              " RelationRecord(items=frozenset({'pasta', 'maggi'}), support=0.0034630835295747335, ordered_statistics=[OrderedStatistic(items_base=frozenset({'pasta'}), items_add=frozenset({'maggi'}), confidence=0.24752475247524755, lift=3.4562498803071797)]),\n",
              " RelationRecord(items=frozenset({'pasta', 'mushroom'}), support=0.005402410306136584, ordered_statistics=[OrderedStatistic(items_base=frozenset({'pasta'}), items_add=frozenset({'mushroom'}), confidence=0.38613861386138615, lift=4.873312331233124)]),\n",
              " RelationRecord(items=frozenset({'mushroom', 'pepper spray'}), support=0.005817980329685552, ordered_statistics=[OrderedStatistic(items_base=frozenset({'pepper spray'}), items_add=frozenset({'mushroom'}), confidence=0.3021582733812949, lift=3.8134275796146295)]),\n",
              " RelationRecord(items=frozenset({'trolly bag', 'neckrest'}), support=0.0034630835295747335, ordered_statistics=[OrderedStatistic(items_base=frozenset({'neckrest'}), items_add=frozenset({'trolly bag'}), confidence=0.2717391304347826, lift=5.620873302603712)]),\n",
              " RelationRecord(items=frozenset({'whole wheat pasta', 'olive oil'}), support=0.007757307106247403, ordered_statistics=[OrderedStatistic(items_base=frozenset({'whole wheat pasta'}), items_add=frozenset({'olive oil'}), confidence=0.26666666666666666, lift=4.061322081575246)])]"
            ]
          },
          "metadata": {},
          "execution_count": 7
        }
      ]
    },
    {
      "cell_type": "markdown",
      "metadata": {
        "id": "0Ir6DPsdumvX"
      },
      "source": [
        "### Proper Display"
      ]
    },
    {
      "cell_type": "code",
      "source": [
        "def incepect(results):\n",
        "  product1= [tuple(result[2][0][0])[0] for result in results]\n",
        "  product2= [tuple(result[2][0][1])[0] for result in results]\n",
        "  supports= [result[1] for result in results]\n",
        "  confidences= [result[2][0][2] for result in results]\n",
        "  lifts= [result[2][0][3] for result in results]\n",
        "  return list(zip(product1, product2, supports, confidences, lifts))\n",
        "\n",
        "dataframe_intelligence= pd.DataFrame(incepect(results), columns= [\"product1\", \"product2\", \"support\", \"confidence\", \"Lift\"])"
      ],
      "metadata": {
        "id": "FDwY68ndxFhw"
      },
      "execution_count": 8,
      "outputs": []
    },
    {
      "cell_type": "code",
      "source": [
        "dataframe_intelligence"
      ],
      "metadata": {
        "id": "03TUheUW0x9q",
        "outputId": "8f607a1f-e84a-432e-8558-bceb086aa971",
        "colab": {
          "base_uri": "https://localhost:8080/",
          "height": 394
        }
      },
      "execution_count": 9,
      "outputs": [
        {
          "output_type": "execute_result",
          "data": {
            "text/plain": [
              "               product1          product2   support  confidence      Lift\n",
              "0               almonds           burgers  0.005402    0.265306  3.059497\n",
              "1                  buns            paneer  0.016069    0.324022  3.285277\n",
              "2   ginger garlic paste           chicken  0.004571    0.292035  4.791372\n",
              "3          fruit basket  vegetable basket  0.005541    0.294118  3.081619\n",
              "4   ginger garlic paste         olive oil  0.003325    0.212389  3.234681\n",
              "5          kissan puree            paneer  0.005402    0.378641  3.839056\n",
              "6                 pasta             maggi  0.003463    0.247525  3.456250\n",
              "7                 pasta          mushroom  0.005402    0.386139  4.873312\n",
              "8          pepper spray          mushroom  0.005818    0.302158  3.813428\n",
              "9              neckrest        trolly bag  0.003463    0.271739  5.620873\n",
              "10    whole wheat pasta         olive oil  0.007757    0.266667  4.061322"
            ],
            "text/html": [
              "\n",
              "  <div id=\"df-2b4c7343-05b3-4956-b56d-4e9b16f05c53\">\n",
              "    <div class=\"colab-df-container\">\n",
              "      <div>\n",
              "<style scoped>\n",
              "    .dataframe tbody tr th:only-of-type {\n",
              "        vertical-align: middle;\n",
              "    }\n",
              "\n",
              "    .dataframe tbody tr th {\n",
              "        vertical-align: top;\n",
              "    }\n",
              "\n",
              "    .dataframe thead th {\n",
              "        text-align: right;\n",
              "    }\n",
              "</style>\n",
              "<table border=\"1\" class=\"dataframe\">\n",
              "  <thead>\n",
              "    <tr style=\"text-align: right;\">\n",
              "      <th></th>\n",
              "      <th>product1</th>\n",
              "      <th>product2</th>\n",
              "      <th>support</th>\n",
              "      <th>confidence</th>\n",
              "      <th>Lift</th>\n",
              "    </tr>\n",
              "  </thead>\n",
              "  <tbody>\n",
              "    <tr>\n",
              "      <th>0</th>\n",
              "      <td>almonds</td>\n",
              "      <td>burgers</td>\n",
              "      <td>0.005402</td>\n",
              "      <td>0.265306</td>\n",
              "      <td>3.059497</td>\n",
              "    </tr>\n",
              "    <tr>\n",
              "      <th>1</th>\n",
              "      <td>buns</td>\n",
              "      <td>paneer</td>\n",
              "      <td>0.016069</td>\n",
              "      <td>0.324022</td>\n",
              "      <td>3.285277</td>\n",
              "    </tr>\n",
              "    <tr>\n",
              "      <th>2</th>\n",
              "      <td>ginger garlic paste</td>\n",
              "      <td>chicken</td>\n",
              "      <td>0.004571</td>\n",
              "      <td>0.292035</td>\n",
              "      <td>4.791372</td>\n",
              "    </tr>\n",
              "    <tr>\n",
              "      <th>3</th>\n",
              "      <td>fruit basket</td>\n",
              "      <td>vegetable basket</td>\n",
              "      <td>0.005541</td>\n",
              "      <td>0.294118</td>\n",
              "      <td>3.081619</td>\n",
              "    </tr>\n",
              "    <tr>\n",
              "      <th>4</th>\n",
              "      <td>ginger garlic paste</td>\n",
              "      <td>olive oil</td>\n",
              "      <td>0.003325</td>\n",
              "      <td>0.212389</td>\n",
              "      <td>3.234681</td>\n",
              "    </tr>\n",
              "    <tr>\n",
              "      <th>5</th>\n",
              "      <td>kissan puree</td>\n",
              "      <td>paneer</td>\n",
              "      <td>0.005402</td>\n",
              "      <td>0.378641</td>\n",
              "      <td>3.839056</td>\n",
              "    </tr>\n",
              "    <tr>\n",
              "      <th>6</th>\n",
              "      <td>pasta</td>\n",
              "      <td>maggi</td>\n",
              "      <td>0.003463</td>\n",
              "      <td>0.247525</td>\n",
              "      <td>3.456250</td>\n",
              "    </tr>\n",
              "    <tr>\n",
              "      <th>7</th>\n",
              "      <td>pasta</td>\n",
              "      <td>mushroom</td>\n",
              "      <td>0.005402</td>\n",
              "      <td>0.386139</td>\n",
              "      <td>4.873312</td>\n",
              "    </tr>\n",
              "    <tr>\n",
              "      <th>8</th>\n",
              "      <td>pepper spray</td>\n",
              "      <td>mushroom</td>\n",
              "      <td>0.005818</td>\n",
              "      <td>0.302158</td>\n",
              "      <td>3.813428</td>\n",
              "    </tr>\n",
              "    <tr>\n",
              "      <th>9</th>\n",
              "      <td>neckrest</td>\n",
              "      <td>trolly bag</td>\n",
              "      <td>0.003463</td>\n",
              "      <td>0.271739</td>\n",
              "      <td>5.620873</td>\n",
              "    </tr>\n",
              "    <tr>\n",
              "      <th>10</th>\n",
              "      <td>whole wheat pasta</td>\n",
              "      <td>olive oil</td>\n",
              "      <td>0.007757</td>\n",
              "      <td>0.266667</td>\n",
              "      <td>4.061322</td>\n",
              "    </tr>\n",
              "  </tbody>\n",
              "</table>\n",
              "</div>\n",
              "      <button class=\"colab-df-convert\" onclick=\"convertToInteractive('df-2b4c7343-05b3-4956-b56d-4e9b16f05c53')\"\n",
              "              title=\"Convert this dataframe to an interactive table.\"\n",
              "              style=\"display:none;\">\n",
              "        \n",
              "  <svg xmlns=\"http://www.w3.org/2000/svg\" height=\"24px\"viewBox=\"0 0 24 24\"\n",
              "       width=\"24px\">\n",
              "    <path d=\"M0 0h24v24H0V0z\" fill=\"none\"/>\n",
              "    <path d=\"M18.56 5.44l.94 2.06.94-2.06 2.06-.94-2.06-.94-.94-2.06-.94 2.06-2.06.94zm-11 1L8.5 8.5l.94-2.06 2.06-.94-2.06-.94L8.5 2.5l-.94 2.06-2.06.94zm10 10l.94 2.06.94-2.06 2.06-.94-2.06-.94-.94-2.06-.94 2.06-2.06.94z\"/><path d=\"M17.41 7.96l-1.37-1.37c-.4-.4-.92-.59-1.43-.59-.52 0-1.04.2-1.43.59L10.3 9.45l-7.72 7.72c-.78.78-.78 2.05 0 2.83L4 21.41c.39.39.9.59 1.41.59.51 0 1.02-.2 1.41-.59l7.78-7.78 2.81-2.81c.8-.78.8-2.07 0-2.86zM5.41 20L4 18.59l7.72-7.72 1.47 1.35L5.41 20z\"/>\n",
              "  </svg>\n",
              "      </button>\n",
              "      \n",
              "  <style>\n",
              "    .colab-df-container {\n",
              "      display:flex;\n",
              "      flex-wrap:wrap;\n",
              "      gap: 12px;\n",
              "    }\n",
              "\n",
              "    .colab-df-convert {\n",
              "      background-color: #E8F0FE;\n",
              "      border: none;\n",
              "      border-radius: 50%;\n",
              "      cursor: pointer;\n",
              "      display: none;\n",
              "      fill: #1967D2;\n",
              "      height: 32px;\n",
              "      padding: 0 0 0 0;\n",
              "      width: 32px;\n",
              "    }\n",
              "\n",
              "    .colab-df-convert:hover {\n",
              "      background-color: #E2EBFA;\n",
              "      box-shadow: 0px 1px 2px rgba(60, 64, 67, 0.3), 0px 1px 3px 1px rgba(60, 64, 67, 0.15);\n",
              "      fill: #174EA6;\n",
              "    }\n",
              "\n",
              "    [theme=dark] .colab-df-convert {\n",
              "      background-color: #3B4455;\n",
              "      fill: #D2E3FC;\n",
              "    }\n",
              "\n",
              "    [theme=dark] .colab-df-convert:hover {\n",
              "      background-color: #434B5C;\n",
              "      box-shadow: 0px 1px 3px 1px rgba(0, 0, 0, 0.15);\n",
              "      filter: drop-shadow(0px 1px 2px rgba(0, 0, 0, 0.3));\n",
              "      fill: #FFFFFF;\n",
              "    }\n",
              "  </style>\n",
              "\n",
              "      <script>\n",
              "        const buttonEl =\n",
              "          document.querySelector('#df-2b4c7343-05b3-4956-b56d-4e9b16f05c53 button.colab-df-convert');\n",
              "        buttonEl.style.display =\n",
              "          google.colab.kernel.accessAllowed ? 'block' : 'none';\n",
              "\n",
              "        async function convertToInteractive(key) {\n",
              "          const element = document.querySelector('#df-2b4c7343-05b3-4956-b56d-4e9b16f05c53');\n",
              "          const dataTable =\n",
              "            await google.colab.kernel.invokeFunction('convertToInteractive',\n",
              "                                                     [key], {});\n",
              "          if (!dataTable) return;\n",
              "\n",
              "          const docLinkHtml = 'Like what you see? Visit the ' +\n",
              "            '<a target=\"_blank\" href=https://colab.research.google.com/notebooks/data_table.ipynb>data table notebook</a>'\n",
              "            + ' to learn more about interactive tables.';\n",
              "          element.innerHTML = '';\n",
              "          dataTable['output_type'] = 'display_data';\n",
              "          await google.colab.output.renderOutput(dataTable, element);\n",
              "          const docLink = document.createElement('div');\n",
              "          docLink.innerHTML = docLinkHtml;\n",
              "          element.appendChild(docLink);\n",
              "        }\n",
              "      </script>\n",
              "    </div>\n",
              "  </div>\n",
              "  "
            ]
          },
          "metadata": {},
          "execution_count": 9
        }
      ]
    },
    {
      "cell_type": "code",
      "source": [
        "dataframe_intelligence.nlargest(n= 10, columns= 'Lift')"
      ],
      "metadata": {
        "id": "rmCv5Zzj09ma",
        "outputId": "ee9a5726-e4ef-44bb-f192-4842a24b1286",
        "colab": {
          "base_uri": "https://localhost:8080/",
          "height": 363
        }
      },
      "execution_count": 10,
      "outputs": [
        {
          "output_type": "execute_result",
          "data": {
            "text/plain": [
              "               product1          product2   support  confidence      Lift\n",
              "9              neckrest        trolly bag  0.003463    0.271739  5.620873\n",
              "7                 pasta          mushroom  0.005402    0.386139  4.873312\n",
              "2   ginger garlic paste           chicken  0.004571    0.292035  4.791372\n",
              "10    whole wheat pasta         olive oil  0.007757    0.266667  4.061322\n",
              "5          kissan puree            paneer  0.005402    0.378641  3.839056\n",
              "8          pepper spray          mushroom  0.005818    0.302158  3.813428\n",
              "6                 pasta             maggi  0.003463    0.247525  3.456250\n",
              "1                  buns            paneer  0.016069    0.324022  3.285277\n",
              "4   ginger garlic paste         olive oil  0.003325    0.212389  3.234681\n",
              "3          fruit basket  vegetable basket  0.005541    0.294118  3.081619"
            ],
            "text/html": [
              "\n",
              "  <div id=\"df-f5787959-1c36-431a-a6ec-6c9b30c1da49\">\n",
              "    <div class=\"colab-df-container\">\n",
              "      <div>\n",
              "<style scoped>\n",
              "    .dataframe tbody tr th:only-of-type {\n",
              "        vertical-align: middle;\n",
              "    }\n",
              "\n",
              "    .dataframe tbody tr th {\n",
              "        vertical-align: top;\n",
              "    }\n",
              "\n",
              "    .dataframe thead th {\n",
              "        text-align: right;\n",
              "    }\n",
              "</style>\n",
              "<table border=\"1\" class=\"dataframe\">\n",
              "  <thead>\n",
              "    <tr style=\"text-align: right;\">\n",
              "      <th></th>\n",
              "      <th>product1</th>\n",
              "      <th>product2</th>\n",
              "      <th>support</th>\n",
              "      <th>confidence</th>\n",
              "      <th>Lift</th>\n",
              "    </tr>\n",
              "  </thead>\n",
              "  <tbody>\n",
              "    <tr>\n",
              "      <th>9</th>\n",
              "      <td>neckrest</td>\n",
              "      <td>trolly bag</td>\n",
              "      <td>0.003463</td>\n",
              "      <td>0.271739</td>\n",
              "      <td>5.620873</td>\n",
              "    </tr>\n",
              "    <tr>\n",
              "      <th>7</th>\n",
              "      <td>pasta</td>\n",
              "      <td>mushroom</td>\n",
              "      <td>0.005402</td>\n",
              "      <td>0.386139</td>\n",
              "      <td>4.873312</td>\n",
              "    </tr>\n",
              "    <tr>\n",
              "      <th>2</th>\n",
              "      <td>ginger garlic paste</td>\n",
              "      <td>chicken</td>\n",
              "      <td>0.004571</td>\n",
              "      <td>0.292035</td>\n",
              "      <td>4.791372</td>\n",
              "    </tr>\n",
              "    <tr>\n",
              "      <th>10</th>\n",
              "      <td>whole wheat pasta</td>\n",
              "      <td>olive oil</td>\n",
              "      <td>0.007757</td>\n",
              "      <td>0.266667</td>\n",
              "      <td>4.061322</td>\n",
              "    </tr>\n",
              "    <tr>\n",
              "      <th>5</th>\n",
              "      <td>kissan puree</td>\n",
              "      <td>paneer</td>\n",
              "      <td>0.005402</td>\n",
              "      <td>0.378641</td>\n",
              "      <td>3.839056</td>\n",
              "    </tr>\n",
              "    <tr>\n",
              "      <th>8</th>\n",
              "      <td>pepper spray</td>\n",
              "      <td>mushroom</td>\n",
              "      <td>0.005818</td>\n",
              "      <td>0.302158</td>\n",
              "      <td>3.813428</td>\n",
              "    </tr>\n",
              "    <tr>\n",
              "      <th>6</th>\n",
              "      <td>pasta</td>\n",
              "      <td>maggi</td>\n",
              "      <td>0.003463</td>\n",
              "      <td>0.247525</td>\n",
              "      <td>3.456250</td>\n",
              "    </tr>\n",
              "    <tr>\n",
              "      <th>1</th>\n",
              "      <td>buns</td>\n",
              "      <td>paneer</td>\n",
              "      <td>0.016069</td>\n",
              "      <td>0.324022</td>\n",
              "      <td>3.285277</td>\n",
              "    </tr>\n",
              "    <tr>\n",
              "      <th>4</th>\n",
              "      <td>ginger garlic paste</td>\n",
              "      <td>olive oil</td>\n",
              "      <td>0.003325</td>\n",
              "      <td>0.212389</td>\n",
              "      <td>3.234681</td>\n",
              "    </tr>\n",
              "    <tr>\n",
              "      <th>3</th>\n",
              "      <td>fruit basket</td>\n",
              "      <td>vegetable basket</td>\n",
              "      <td>0.005541</td>\n",
              "      <td>0.294118</td>\n",
              "      <td>3.081619</td>\n",
              "    </tr>\n",
              "  </tbody>\n",
              "</table>\n",
              "</div>\n",
              "      <button class=\"colab-df-convert\" onclick=\"convertToInteractive('df-f5787959-1c36-431a-a6ec-6c9b30c1da49')\"\n",
              "              title=\"Convert this dataframe to an interactive table.\"\n",
              "              style=\"display:none;\">\n",
              "        \n",
              "  <svg xmlns=\"http://www.w3.org/2000/svg\" height=\"24px\"viewBox=\"0 0 24 24\"\n",
              "       width=\"24px\">\n",
              "    <path d=\"M0 0h24v24H0V0z\" fill=\"none\"/>\n",
              "    <path d=\"M18.56 5.44l.94 2.06.94-2.06 2.06-.94-2.06-.94-.94-2.06-.94 2.06-2.06.94zm-11 1L8.5 8.5l.94-2.06 2.06-.94-2.06-.94L8.5 2.5l-.94 2.06-2.06.94zm10 10l.94 2.06.94-2.06 2.06-.94-2.06-.94-.94-2.06-.94 2.06-2.06.94z\"/><path d=\"M17.41 7.96l-1.37-1.37c-.4-.4-.92-.59-1.43-.59-.52 0-1.04.2-1.43.59L10.3 9.45l-7.72 7.72c-.78.78-.78 2.05 0 2.83L4 21.41c.39.39.9.59 1.41.59.51 0 1.02-.2 1.41-.59l7.78-7.78 2.81-2.81c.8-.78.8-2.07 0-2.86zM5.41 20L4 18.59l7.72-7.72 1.47 1.35L5.41 20z\"/>\n",
              "  </svg>\n",
              "      </button>\n",
              "      \n",
              "  <style>\n",
              "    .colab-df-container {\n",
              "      display:flex;\n",
              "      flex-wrap:wrap;\n",
              "      gap: 12px;\n",
              "    }\n",
              "\n",
              "    .colab-df-convert {\n",
              "      background-color: #E8F0FE;\n",
              "      border: none;\n",
              "      border-radius: 50%;\n",
              "      cursor: pointer;\n",
              "      display: none;\n",
              "      fill: #1967D2;\n",
              "      height: 32px;\n",
              "      padding: 0 0 0 0;\n",
              "      width: 32px;\n",
              "    }\n",
              "\n",
              "    .colab-df-convert:hover {\n",
              "      background-color: #E2EBFA;\n",
              "      box-shadow: 0px 1px 2px rgba(60, 64, 67, 0.3), 0px 1px 3px 1px rgba(60, 64, 67, 0.15);\n",
              "      fill: #174EA6;\n",
              "    }\n",
              "\n",
              "    [theme=dark] .colab-df-convert {\n",
              "      background-color: #3B4455;\n",
              "      fill: #D2E3FC;\n",
              "    }\n",
              "\n",
              "    [theme=dark] .colab-df-convert:hover {\n",
              "      background-color: #434B5C;\n",
              "      box-shadow: 0px 1px 3px 1px rgba(0, 0, 0, 0.15);\n",
              "      filter: drop-shadow(0px 1px 2px rgba(0, 0, 0, 0.3));\n",
              "      fill: #FFFFFF;\n",
              "    }\n",
              "  </style>\n",
              "\n",
              "      <script>\n",
              "        const buttonEl =\n",
              "          document.querySelector('#df-f5787959-1c36-431a-a6ec-6c9b30c1da49 button.colab-df-convert');\n",
              "        buttonEl.style.display =\n",
              "          google.colab.kernel.accessAllowed ? 'block' : 'none';\n",
              "\n",
              "        async function convertToInteractive(key) {\n",
              "          const element = document.querySelector('#df-f5787959-1c36-431a-a6ec-6c9b30c1da49');\n",
              "          const dataTable =\n",
              "            await google.colab.kernel.invokeFunction('convertToInteractive',\n",
              "                                                     [key], {});\n",
              "          if (!dataTable) return;\n",
              "\n",
              "          const docLinkHtml = 'Like what you see? Visit the ' +\n",
              "            '<a target=\"_blank\" href=https://colab.research.google.com/notebooks/data_table.ipynb>data table notebook</a>'\n",
              "            + ' to learn more about interactive tables.';\n",
              "          element.innerHTML = '';\n",
              "          dataTable['output_type'] = 'display_data';\n",
              "          await google.colab.output.renderOutput(dataTable, element);\n",
              "          const docLink = document.createElement('div');\n",
              "          docLink.innerHTML = docLinkHtml;\n",
              "          element.appendChild(docLink);\n",
              "        }\n",
              "      </script>\n",
              "    </div>\n",
              "  </div>\n",
              "  "
            ]
          },
          "metadata": {},
          "execution_count": 10
        }
      ]
    }
  ]
}